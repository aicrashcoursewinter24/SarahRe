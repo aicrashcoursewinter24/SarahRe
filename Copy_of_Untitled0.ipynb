{
  "nbformat": 4,
  "nbformat_minor": 0,
  "metadata": {
    "colab": {
      "provenance": [],
      "gpuType": "T4",
      "authorship_tag": "ABX9TyPjtR1iBLSJxR0xhbvV4Gtk",
      "include_colab_link": true
    },
    "kernelspec": {
      "name": "python3",
      "display_name": "Python 3"
    },
    "language_info": {
      "name": "python"
    },
    "accelerator": "GPU"
  },
  "cells": [
    {
      "cell_type": "markdown",
      "metadata": {
        "id": "view-in-github",
        "colab_type": "text"
      },
      "source": [
        "<a href=\"https://colab.research.google.com/github/aicrashcoursewinter24/SarahRe/blob/final-project/Copy_of_Untitled0.ipynb\" target=\"_parent\"><img src=\"https://colab.research.google.com/assets/colab-badge.svg\" alt=\"Open In Colab\"/></a>"
      ]
    },
    {
      "cell_type": "code",
      "source": [
        "! pip install langchain_openai\n",
        "! pip install langchain\n",
        "! pip install langchain_community\n",
        "! pip install torch\n",
        "! %pip install --upgrade --quiet  pymupdf\n",
        "! pip install anyscale\n",
        "! pip install pymupdf"
      ],
      "metadata": {
        "id": "EFSyrdAkrgcd"
      },
      "execution_count": null,
      "outputs": []
    },
    {
      "cell_type": "code",
      "source": [
        "import os\n",
        "\n",
        "#  OpenAI API key as an environment variable\n",
        "os.environ[\"OPENAI_API_KEY\"] = \"esecret_5ksmjdxmfj4kr9jjlmzpmzabi5\""
      ],
      "metadata": {
        "id": "BPqiMp9Et68J"
      },
      "execution_count": null,
      "outputs": []
    },
    {
      "cell_type": "code",
      "source": [
        "!pip install --upgrade langchain_openai\n",
        "\n"
      ],
      "metadata": {
        "id": "o_9pI4bWuqjY"
      },
      "execution_count": null,
      "outputs": []
    },
    {
      "cell_type": "code",
      "source": [
        "import openai\n",
        "\n",
        "import requests\n",
        "client = OpenAI()\n",
        "from openai import OpenAI\n"
      ],
      "metadata": {
        "id": "ppotudI2u4Sl"
      },
      "execution_count": null,
      "outputs": []
    },
    {
      "cell_type": "code",
      "source": [
        "from langchain_openai import ChatOpenAI\n",
        "\n",
        "llm = ChatOpenAI(model=\"gpt-3.5-turbo\", temperature=0)"
      ],
      "metadata": {
        "id": "a7R8XFDHxnnM"
      },
      "execution_count": null,
      "outputs": []
    },
    {
      "cell_type": "code",
      "source": [
        "import openai\n",
        "\n",
        "\n",
        "# Ex, prompt for chat-based interaction\n",
        "prompt = \"Translate the following English text to French:\"\n",
        "\n",
        "#  API call to GPT-3.5-turbo\n",
        "response = openai.Completion.create(\n",
        "  engine=\"text-davinci-003\",  # Specify the GPT-3.5-turbo engine\n",
        "  prompt=prompt,\n",
        "  max_tokens=150  # Set a limit on the response length\n",
        ")\n",
        "\n",
        "#\n",
        "generated_response = response['choices'][0]['text']\n",
        "print(generated_response)\n"
      ],
      "metadata": {
        "id": "dDG_1w-_sZ4s"
      },
      "execution_count": null,
      "outputs": []
    }
  ]
}